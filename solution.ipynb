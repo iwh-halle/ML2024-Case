{
 "cells": [
  {
   "cell_type": "markdown",
   "metadata": {},
   "source": [
    "# ML Case 2024"
   ]
  },
  {
   "cell_type": "markdown",
   "metadata": {},
   "source": [
    "## Extracting text from PDF files\n",
    "\n",
    "**(This is a suggestion, remove the code if you do not need it ...)**"
   ]
  },
  {
   "cell_type": "code",
   "execution_count": 20,
   "metadata": {},
   "outputs": [],
   "source": [
    "# Step 1: Install pdfminer.six if you haven't already\n",
    "# You can install it using conda, see https://anaconda.org/conda-forge/pdfminer.six\n",
    "\n",
    "# Step 2: Import the required modules\n",
    "import os\n",
    "import re\n",
    "from pdfminer.high_level import extract_text"
   ]
  },
  {
   "cell_type": "code",
   "execution_count": 21,
   "metadata": {},
   "outputs": [
    {
     "name": "stdout",
     "output_type": "stream",
     "text": [
      "['Bajari-MachineLearningMethods-2015.pdf', 'cesifo1_wp6504.pdf', 'SSRN-id3567724.pdf']\n"
     ]
    }
   ],
   "source": [
    "# Files in the data folder\n",
    "pdf_files = os.listdir(path='data')\n",
    "print(pdf_files)"
   ]
  },
  {
   "cell_type": "code",
   "execution_count": 22,
   "metadata": {},
   "outputs": [],
   "source": [
    "# Path to your PDF file\n",
    "pdf_file_path = os.path.join('data', pdf_files[2])\n",
    "\n",
    "# Extract text\n",
    "extracted_text = extract_text(pdf_file_path)"
   ]
  },
  {
   "cell_type": "code",
   "execution_count": 23,
   "metadata": {},
   "outputs": [
    {
     "name": "stdout",
     "output_type": "stream",
     "text": [
      "“Let me get back to you” –\n",
      "A machine learning approach to measuring\n",
      "non-answers∗\n",
      "\n",
      "Andreas Barth†\n",
      "\n",
      "Sasan Mansouri‡\n",
      "\n",
      "Fabian Woebbeking§\n",
      "\n",
      "April 1, 2022\n",
      "\n",
      "\n"
     ]
    }
   ],
   "source": [
    "# This is the beginning of the extracted text\n",
    "print(extracted_text[0:150])"
   ]
  },
  {
   "cell_type": "markdown",
   "metadata": {},
   "source": [
    "## Some pre-processing"
   ]
  },
  {
   "cell_type": "code",
   "execution_count": 26,
   "metadata": {},
   "outputs": [
    {
     "name": "stdout",
     "output_type": "stream",
     "text": [
      " Let me get back to you    A machine learning approach to measuring non answers   Andreas Barth   Sasan Mansouri   Fabian Woebbeking   April          \n"
     ]
    }
   ],
   "source": [
    "# Regex to remove all non-alphabetical characters and replace them with a space\n",
    "processed_text = re.sub('[^a-zA-Z]', ' ', extracted_text)\n",
    "\n",
    "print(processed_text[0:150])"
   ]
  }
 ],
 "metadata": {
  "celltoolbar": "Slideshow",
  "kernelspec": {
   "display_name": "Python 3",
   "language": "python",
   "name": "python3"
  },
  "language_info": {
   "codemirror_mode": {
    "name": "ipython",
    "version": 3
   },
   "file_extension": ".py",
   "mimetype": "text/x-python",
   "name": "python",
   "nbconvert_exporter": "python",
   "pygments_lexer": "ipython3",
   "version": "3.8.18"
  },
  "title": "Machine Learning"
 },
 "nbformat": 4,
 "nbformat_minor": 4
}
